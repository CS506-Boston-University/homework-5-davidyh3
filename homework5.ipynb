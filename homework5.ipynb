{
  "cells": [
    {
      "attachments": {},
      "cell_type": "markdown",
      "metadata": {
        "id": "8wJiYJe-e0Ei"
      },
      "source": [
        "# Homework 5 (100 points)\n",
        "\n",
        "This homework will focus on Neural Networks and visualization.\n",
        "\n",
        "a) Write a function that takes a keras network and outputs an image (png format) of the network. (10points)\n",
        "\n",
        "You can assume the model is sequential and only uses dense layers. The input and output neurons must be blue circles. The hidden neurons must be green circles. The edges must be directed red arrows.\n",
        "\n",
        "For example, the output image for\n",
        "\n",
        "```python\n",
        "    model = keras.models.Sequential()\n",
        "    model.add(layers.Dense(2, input_dim=2))\n",
        "    model.add(layers.Dense(1))\n",
        "    model.compile(loss=\"binary_crossentropy\")\n",
        "```\n",
        "\n",
        "should look exactly like this:"
      ]
    },
    {
      "cell_type": "code",
      "execution_count": null,
      "metadata": {
        "id": "wnnz5slBe0Ej",
        "outputId": "c368f264-8f2a-4fa8-843a-2103ee932dbf"
      },
      "outputs": [
        {
          "data": {
            "image/png": "[encoded data removed]",
            "text/plain": [
              "<IPython.core.display.Image object>"
            ]
          },
          "metadata": {},
          "output_type": "display_data"
        }
      ],
      "source": [
        "from IPython.display import Image\n",
        "Image(filename=\"example.png\")"
      ]
    },
    {
      "cell_type": "markdown",
      "metadata": {
        "id": "8aJ5DHp3e0Eo"
      },
      "source": [
        "Hint: use the networkx library (specifically the [to_agraph](https://networkx.org/documentation/stable/reference/generated/networkx.drawing.nx_agraph.to_agraph.html) method)"
      ]
    },
    {
      "cell_type": "code",
      "execution_count": 1,
      "metadata": {
        "id": "YMVoM46-nd09"
      },
      "outputs": [],
      "source": [
        "#libraries used in this exercise\n",
        "import numpy as np\n",
        "import networkx as nx\n",
        "from PIL import Image\n",
        "import matplotlib.pyplot as plt\n",
        "from matplotlib.animation import FuncAnimation, PillowWriter\n",
        "\n",
        "from tensorflow.keras import layers, models\n",
        "from tensorflow.keras.utils import plot_model\n",
        "from networkx.drawing.nx_agraph import to_agraph\n",
        "\n",
        "from IPython.display import Image as img_display"
      ]
    },
    {
      "cell_type": "code",
      "execution_count": null,
      "metadata": {
        "id": "ISsAXVtSSTb5"
      },
      "outputs": [],
      "source": [
        "!apt install libgraphviz-dev\n",
        "!pip install pygraphviz"
      ]
    },
    {
      "cell_type": "code",
      "execution_count": null,
      "metadata": {
        "colab": {
          "base_uri": "https://localhost:8080/",
          "height": 460
        },
        "id": "879_vO3MhL8J",
        "outputId": "392bf081-4be2-4f63-a2ff-05ed76758c52"
      },
      "outputs": [],
      "source": [
        "def plot_keras_model(model, filename):\n",
        "    #TODO\n",
        "    return\n",
        "\n",
        "model_a = models.Sequential()\n",
        "model_a.add(layers.Dense(2, input_dim=2))\n",
        "model_a.add(layers.Dense(1))\n",
        "model_a.compile(loss=\"binary_crossentropy\")\n",
        "\n",
        "plot_keras_model(model_a, \"model_a.png\")\n",
        "Image.open(\"model_a.png\")"
      ]
    },
    {
      "attachments": {},
      "cell_type": "markdown",
      "metadata": {
        "id": "k-bWG739e0Ep"
      },
      "source": [
        "b) Generate 100 datapoints of the form y = 5x - 1 + e where e ~ N(0, 1) and plot the data in a scatter plot. Create a Neural Network with no hidden layers (just input to ouput each with just one neuron), using the `mean_squared_error` loss and no activation function. Create an image of this model using a) then train this model on the dataset produced such that it learns a good fit to the points. Plot that fitted line. (10points)"
      ]
    },
    {
      "cell_type": "code",
      "execution_count": null,
      "metadata": {
        "colab": {
          "base_uri": "https://localhost:8080/",
          "height": 430
        },
        "id": "ywKRkHrxe0Ep",
        "outputId": "51d254f4-0545-4ac5-d3a4-9205a61c8353"
      },
      "outputs": [],
      "source": []
    },
    {
      "attachments": {},
      "cell_type": "markdown",
      "metadata": {
        "id": "51M4vdtBe0Eq"
      },
      "source": [
        "c) Create a 3D animation (.gif) of the (weight, bias, loss) point over the training period. (15 points)"
      ]
    },
    {
      "cell_type": "code",
      "execution_count": 6,
      "metadata": {
        "id": "Kpv195_xe0Er"
      },
      "outputs": [],
      "source": []
    },
    {
      "attachments": {},
      "cell_type": "markdown",
      "metadata": {
        "id": "6IhtOcfBe0Es"
      },
      "source": [
        "d) Generate data of the form y = 5x^3 + 3x^2 + x - 1 + e where e ~ N(0, 1) and plot the data in a scatter plot. Create and train a neural network on this dataset and plot the resulting curve through the scatter plot. Explain your choice of model architecture (number of layers, and neurons) as well as your choice of activation function. (5points)"
      ]
    },
    {
      "cell_type": "code",
      "execution_count": null,
      "metadata": {},
      "outputs": [],
      "source": []
    },
    {
      "attachments": {},
      "cell_type": "markdown",
      "metadata": {
        "id": "8Yrb9k6-e0Eu"
      },
      "source": [
        "e) Create an animation of the resulting curve learned by your model throughout the training process. (15points)"
      ]
    },
    {
      "cell_type": "code",
      "execution_count": null,
      "metadata": {},
      "outputs": [],
      "source": []
    },
    {
      "attachments": {},
      "cell_type": "markdown",
      "metadata": {},
      "source": [
        "f) Below is code to create a Generative Adversarial Network (GAN). The goal of the GAN is to generate data that is fake but looks real. A GAN is separated into two networks (a Generator and a Discriminator) that learn from each other through the following steps at each given training epoch:\n",
        "\n",
        "1. The Generator generates data\n",
        "2. The Discriminator is trained to learn how to distinguish real data from the fake data that the generator just generated.\n",
        "3. The Generator is then trained to improve its ability to generate fake data by being informed by the Discriminators new ability to distinguish real from fake.\n",
        "\n",
        "Here is some code to train a GAN to generate 2-dimensional data that looks like a multivariate normal with mean (0,0) and covariance defined below.\n",
        "\n",
        "The code has one major flaw though that will prevent it from ever generating data that looks like the real data. Something is wrong with the architecture of the model (layers, activation etc). Find and fix that flaw and explain your reasoning below. (15points)"
      ]
    },
    {
      "cell_type": "code",
      "execution_count": null,
      "metadata": {},
      "outputs": [],
      "source": [
        "import numpy as np\n",
        "import matplotlib.pyplot as plt\n",
        "from keras.models import Sequential\n",
        "from keras.layers import Dense\n",
        "from keras.layers.activation import ReLU\n",
        "from PIL import Image as im\n",
        "\n",
        "TEMPFILE = 'temp.png'\n",
        "\n",
        "# Define the parameters\n",
        "np.random.seed(0)\n",
        "gen_input_dim = 100\n",
        "epochs = 100\n",
        "batch_size = 128\n",
        "images = []\n",
        "\n",
        "# Define the generator model\n",
        "generator = Sequential()\n",
        "generator.add(Dense(32, input_dim=gen_input_dim, activation='tanh'))\n",
        "generator.add(Dense(2), activation='sigmoid')\n",
        "\n",
        "# Define the discriminator model\n",
        "discriminator = Sequential()\n",
        "discriminator.add(Dense(16, input_dim=2))\n",
        "discriminator.add(ReLU())\n",
        "discriminator.add(Dense(1, activation='sigmoid'))\n",
        "\n",
        "# Compile the models\n",
        "generator.compile(loss='mse')\n",
        "discriminator.compile(loss='binary_crossentropy')\n",
        "\n",
        "# Define the GAN model\n",
        "gan = Sequential()\n",
        "gan.add(generator)\n",
        "gan.add(discriminator)\n",
        "gan.compile(loss='binary_crossentropy')\n",
        "\n",
        "# Define the real data\n",
        "x_real = np.random.multivariate_normal([0, 0], [[1, 0.5], [0.5, 1]], 1000)\n",
        "\n",
        "# Train the GAN\n",
        "# don't change the code below\n",
        "for epoch in range(epochs):\n",
        "    # Generate fake data\n",
        "    z = np.random.normal(size=(batch_size, gen_input_dim))\n",
        "    x_fake = generator.predict(z)\n",
        "\n",
        "    # Train the discriminator\n",
        "    discriminator.trainable = True\n",
        "    discriminator.train_on_batch(x_real, np.ones((len(x_real), 1)))\n",
        "    discriminator.train_on_batch(x_fake, np.zeros((batch_size, 1)))\n",
        "\n",
        "    # Train the generator\n",
        "    discriminator.trainable = False\n",
        "    gan.train_on_batch(z, np.ones((batch_size, 1)))"
      ]
    },
    {
      "attachments": {},
      "cell_type": "markdown",
      "metadata": {},
      "source": [
        "g) Create an animation of the generated data over the course of the training process (with the real data plotted in a different color for reference). (15points)"
      ]
    },
    {
      "cell_type": "code",
      "execution_count": null,
      "metadata": {},
      "outputs": [],
      "source": []
    },
    {
      "attachments": {},
      "cell_type": "markdown",
      "metadata": {},
      "source": [
        "h) Tune the above model in order to generate data as close as possible to the real data. (15points)"
      ]
    },
    {
      "cell_type": "code",
      "execution_count": null,
      "metadata": {},
      "outputs": [],
      "source": []
    }
  ],
  "metadata": {
    "accelerator": "GPU",
    "colab": {
      "provenance": []
    },
    "gpuClass": "standard",
    "kernelspec": {
      "display_name": "Python 3 (ipykernel)",
      "language": "python",
      "name": "python3"
    },
    "language_info": {
      "codemirror_mode": {
        "name": "ipython",
        "version": 3
      },
      "file_extension": ".py",
      "mimetype": "text/x-python",
      "name": "python",
      "nbconvert_exporter": "python",
      "pygments_lexer": "ipython3",
      "version": "3.9.12"
    }
  },
  "nbformat": 4,
  "nbformat_minor": 0
}
